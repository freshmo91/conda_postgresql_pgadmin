{
 "cells": [
  {
   "cell_type": "markdown",
   "metadata": {},
   "source": [
    "# Python with PostgreSQL & PostGIS\n",
    "\n",
    "Note that a PostgreSQL/PostGIS installation and an import of OpenStreetMap data into a database is required for this exercise!\n",
    "\n",
    "For a PostgreSQL/PostGIS installation on your local computer see: https://postgis.net/workshops/postgis-intro/installation.html.\n",
    "\n",
    "On PCs with amd64 architechture (not arm64 like Apple M1/M2) you can use the file docker-compose.yml.\n",
    "\n",
    "For the import of OpenStreetMap data, the CLI tool osm2pgsql can be used (Windows/macOS).\n",
    "\n",
    "For examples of how to use osm2pgsql see: https://osm2pgsql.org/examples."
   ]
  },
  {
   "cell_type": "markdown",
   "metadata": {},
   "source": [
    "## Libraries and Settings"
   ]
  },
  {
   "cell_type": "code",
   "execution_count": null,
   "metadata": {},
   "outputs": [],
   "source": [
    "# Libraries\n",
    "import os\n",
    "import folium\n",
    "import psycopg2\n",
    "import pandas as pd\n",
    "import geopandas as gpd\n",
    "from sqlalchemy import create_engine\n",
    "\n",
    "# Ignore warnings\n",
    "import warnings\n",
    "warnings.filterwarnings(\"ignore\")\n",
    "\n",
    "print(os.getcwd())\n",
    "\n",
    "# Set up the database connection\n",
    "user = \"postgres\"\n",
    "password = \"geheim\"\n",
    "host = \"localhost\"\n",
    "port = \"5432\"\n",
    "database = \"osm_switzerland\"\n",
    "\n",
    "db_connection_url = \"postgresql://\" + user + \":\" + password +\\\n",
    "                    \"@\" + host + \":\" + port + \"/\" + database"
   ]
  },
  {
   "cell_type": "markdown",
   "metadata": {},
   "source": [
    "## Show tables in the database"
   ]
  },
  {
   "cell_type": "code",
   "execution_count": null,
   "metadata": {},
   "outputs": [],
   "source": [
    "# Create a connection\n",
    "conn = psycopg2.connect(user=user,\n",
    "                        password=password,\n",
    "                        host=host,\n",
    "                        port=port,\n",
    "                        database=database)\n",
    "\n",
    "# Create a cursor object\n",
    "cursor = conn.cursor()\n",
    "\n",
    "# Execute the SQL query\n",
    "cursor.execute(\"SELECT table_name FROM information_schema.tables WHERE table_schema = 'public'\")\n",
    "\n",
    "# Fetch all the rows\n",
    "tables = cursor.fetchall()\n",
    "\n",
    "try:\n",
    "    # Print rows\n",
    "    for table in tables:\n",
    "        print(table)\n",
    "except (Exception, psycopg2.Error) as error:\n",
    "    print(\"Error while connecting to PostgreSQL\", error)\n",
    "finally:\n",
    "    # Close connection\n",
    "    if conn:\n",
    "        cursor.close()\n",
    "        conn.close()"
   ]
  },
  {
   "cell_type": "markdown",
   "metadata": {},
   "source": [
    "## Show columns and data types of selected table"
   ]
  },
  {
   "cell_type": "code",
   "execution_count": null,
   "metadata": {},
   "outputs": [],
   "source": [
    "engine = create_engine(db_connection_url)\n",
    "\n",
    "# Specify your table name\n",
    "table_name = 'planet_osm_polygon'\n",
    "\n",
    "# Query to get column information\n",
    "query = f\"\"\"SELECT column_name, data_type \n",
    "        FROM information_schema.columns \n",
    "        WHERE table_name = '{table_name}'\"\"\"\n",
    "\n",
    "# Execute the query and read the result into a DataFrame\n",
    "df = pd.read_sql(query, engine)\n",
    "\n",
    "# Close the connection\n",
    "conn.close()\n",
    "\n",
    "# Print the DataFrame\n",
    "df"
   ]
  },
  {
   "cell_type": "markdown",
   "metadata": {},
   "source": [
    "## Query spatial data from PostgreSQL database (1st example)"
   ]
  },
  {
   "cell_type": "code",
   "execution_count": null,
   "metadata": {},
   "outputs": [],
   "source": [
    "# Create a connection\n",
    "conn = create_engine(db_connection_url)  \n",
    "\n",
    "# Query the database    \n",
    "sql = \"\"\"SELECT\n",
    "        p.osm_id,\n",
    "        p.\"addr:street\",\n",
    "        p.\"addr:housenumber\",\n",
    "        p.\"addr:city\",\n",
    "        p.\"addr:postcode\",\n",
    "        p.building,\n",
    "        st_transform(p.way, 4326) AS geom\n",
    "        FROM\n",
    "        public.planet_osm_polygon AS p\n",
    "        WHERE\n",
    "        p.\"addr:street\" IS NOT NULL\n",
    "        AND p.\"addr:city\" = 'Zürich'\n",
    "        AND p.\"addr:postcode\" IN ('8001')\"\"\"\n",
    "\n",
    "# Create a GeoDataFrame\n",
    "gdf_01 = gpd.GeoDataFrame.from_postgis(sql, conn)\n",
    "gdf_01\n",
    "\n",
    "# Close the connection\n",
    "conn.dispose()"
   ]
  },
  {
   "cell_type": "markdown",
   "metadata": {},
   "source": [
    "## Show the map"
   ]
  },
  {
   "cell_type": "code",
   "execution_count": null,
   "metadata": {},
   "outputs": [],
   "source": [
    "# Extract the x (longitude) and y (latitude) coordinates from each polygon\n",
    "lon = gdf_01.geometry.apply(lambda polygon: polygon.centroid.x).mean()\n",
    "lat = gdf_01.geometry.apply(lambda polygon: polygon.centroid.y).mean()\n",
    "\n",
    "# Initialize the map (use grayscale tiles for better contrast)\n",
    "m = folium.Map(location=[lat, lon], \n",
    "               zoom_start=15, \n",
    "               tiles='CartoDB positron')\n",
    "\n",
    "# Map settings\n",
    "folium.Choropleth(\n",
    "    geo_data=gdf_01,\n",
    "    name='map',\n",
    "    fill_color='greenyellow'\n",
    ").add_to(m)\n",
    "\n",
    "folium.LayerControl().add_to(m)\n",
    "\n",
    "# Plot map\n",
    "m"
   ]
  },
  {
   "cell_type": "markdown",
   "metadata": {},
   "source": [
    "## Query spatial data from PostgreSQL database (2nd example)"
   ]
  },
  {
   "cell_type": "code",
   "execution_count": null,
   "metadata": {},
   "outputs": [],
   "source": [
    "# Create a connection\n",
    "conn = create_engine(db_connection_url)\n",
    "\n",
    "# Query roads   \n",
    "sql_a = \"\"\"--Select major roads\n",
    "           SELECT\n",
    "           ST_TRANSFORM(p.way, 4326) AS geom\n",
    "           FROM public.planet_osm_roads AS p\n",
    "           WHERE\n",
    "           highway IN ('motorway', 'trunk', 'primary')\"\"\"\n",
    "\n",
    "# Create a GeoDataFrame\n",
    "gdf_02a = gpd.GeoDataFrame.from_postgis(sql_a, conn, geom_col='geom')\n",
    "gdf_02a\n",
    "\n",
    "# Create Bufferes\n",
    "sql_b = \"\"\"--Create buffers around major roads and combine these buffers to one single buffer\n",
    "        SELECT \n",
    "        1 as group_id,\n",
    "        ST_TRANSFORM(ST_UNION(ST_Buffer(p.way::geometry, 200)), 4326) AS combined_buffer_geom\n",
    "        FROM public.planet_osm_roads AS p\n",
    "        WHERE\n",
    "        highway IN ('motorway', 'trunk', 'primary')\"\"\"\n",
    "\n",
    "# Create a GeoDataFrame\n",
    "gdf_02b = gpd.GeoDataFrame.from_postgis(sql_b, conn, geom_col='combined_buffer_geom')\n",
    "gdf_02b\n",
    "\n",
    "# Close the connection\n",
    "conn.dispose()"
   ]
  },
  {
   "cell_type": "markdown",
   "metadata": {},
   "source": [
    "## Show the map"
   ]
  },
  {
   "cell_type": "code",
   "execution_count": null,
   "metadata": {},
   "outputs": [],
   "source": [
    "# Extract the x (longitude) and y (latitude) coordinates from each polygon\n",
    "# lon = gdf_02.geometry.apply(lambda polygon: polygon.centroid.x).mean()\n",
    "# lat = gdf_02.geometry.apply(lambda polygon: polygon.centroid.y).mean()\n",
    "\n",
    "# Use city of Zürich as center\n",
    "lon = 8.54104\n",
    "lat = 47.37445\n",
    "\n",
    "# Initialize the map (use grayscale tiles for better contrast)\n",
    "m = folium.Map(location=[lat, lon], \n",
    "               zoom_start=14, \n",
    "               tiles='CartoDB positron')\n",
    "\n",
    "# Add buffer to map\n",
    "buffer_group = folium.FeatureGroup(name='Buffer')\n",
    "folium.Choropleth(\n",
    "    geo_data=gdf_02b,\n",
    "    fill_color='greenyellow'\n",
    ").add_to(buffer_group)\n",
    "buffer_group.add_to(m)\n",
    "\n",
    "# Add roads to map\n",
    "roads_group = folium.FeatureGroup(name='Roads')\n",
    "folium.GeoJson(\n",
    "    gdf_02a,\n",
    "    style_function=lambda feature: {\n",
    "        'color': 'red',\n",
    "        'weight': 3\n",
    "    }\n",
    ").add_to(roads_group)\n",
    "roads_group.add_to(m)\n",
    "\n",
    "folium.LayerControl().add_to(m)\n",
    "\n",
    "# Plot map\n",
    "m"
   ]
  },
  {
   "cell_type": "markdown",
   "metadata": {},
   "source": [
    "## Query spatial data from PostgreSQL database (3rd example)"
   ]
  },
  {
   "cell_type": "code",
   "execution_count": null,
   "metadata": {},
   "outputs": [],
   "source": [
    "# Create a connection\n",
    "conn = create_engine(db_connection_url)  \n",
    "\n",
    "# Define the query\n",
    "sql = \"\"\"WITH buffer AS (\n",
    "        -- Create buffers around major roads and combine these buffers to one single buffer\n",
    "        SELECT \n",
    "        1 as group_id,\n",
    "        ST_TRANSFORM(ST_UNION(ST_Buffer(p.way::geometry, 200)), 4326) AS combined_buffer_geom\n",
    "        FROM public.planet_osm_roads AS p\n",
    "        WHERE\n",
    "        -- Filter for major roads\n",
    "        highway IN ('motorway', 'trunk', 'primary')\n",
    "        )\n",
    "        -- Select all buildings within the buffer\n",
    "        SELECT\n",
    "        p.osm_id,\n",
    "        p.\"addr:street\",\n",
    "        p.\"addr:housenumber\",\n",
    "        p.\"addr:city\",\n",
    "        p.\"addr:postcode\",\n",
    "        p.building,\n",
    "        ST_Transform(p.way, 4326) AS geom\n",
    "        FROM\n",
    "        public.planet_osm_polygon AS p, buffer\n",
    "        WHERE\n",
    "        p.\"addr:city\" IN ('Zürich')\n",
    "        -- Filter for buildings within the buffer\n",
    "        AND ST_Contains(buffer.combined_buffer_geom, ST_Transform(p.way, 4326));\n",
    "        \"\"\"\n",
    "\n",
    "# Create a GeoDataFrame\n",
    "gdf_03 = gpd.GeoDataFrame.from_postgis(sql, conn, geom_col='geom')\n",
    "\n",
    "# Close the connection\n",
    "conn.dispose()\n",
    "\n",
    "gdf_03.head()"
   ]
  },
  {
   "cell_type": "markdown",
   "metadata": {},
   "source": [
    "## Show map"
   ]
  },
  {
   "cell_type": "code",
   "execution_count": null,
   "metadata": {},
   "outputs": [],
   "source": [
    "# Extract the x (longitude) and y (latitude) coordinates from each polygon\n",
    "# lon = gdf_03.geometry.apply(lambda polygon: polygon.centroid.x).mean()\n",
    "# lat = gdf_03.geometry.apply(lambda polygon: polygon.centroid.y).mean()\n",
    "\n",
    "# Use city of Zürich as center\n",
    "lon = 8.54104\n",
    "lat = 47.37445\n",
    "\n",
    "# Initialize the map (use grayscale tiles for better contrast)\n",
    "m = folium.Map(location=[lat, lon], \n",
    "               zoom_start=14, \n",
    "               tiles='CartoDB positron')\n",
    "\n",
    "# Create feature groups\n",
    "buffer_group = folium.FeatureGroup(name='Buffer')\n",
    "roads_group = folium.FeatureGroup(name='Roads')\n",
    "bldgs_group = folium.FeatureGroup(name='Buildings')\n",
    "\n",
    "# Add buffer to map\n",
    "folium.Choropleth(\n",
    "    geo_data=gdf_02b,\n",
    "    fill_color='greenyellow'\n",
    ").add_to(buffer_group)\n",
    "\n",
    "# Add roads to map\n",
    "folium.GeoJson(\n",
    "    gdf_02a,\n",
    "    style_function=lambda feature: {\n",
    "        'color': 'red',\n",
    "        'weight': 3\n",
    "    }\n",
    ").add_to(roads_group)\n",
    "\n",
    "# Add buildigs in buffer to map\n",
    "folium.Choropleth(\n",
    "    geo_data=gdf_03,\n",
    "    name='map',\n",
    "    fill_color='gray'\n",
    ").add_to(bldgs_group)\n",
    "\n",
    "# Add feature groups to map\n",
    "m.add_child(buffer_group)\n",
    "m.add_child(roads_group)\n",
    "m.add_child(bldgs_group)\n",
    "\n",
    "folium.LayerControl().add_to(m)\n",
    "\n",
    "# Plot map\n",
    "m"
   ]
  },
  {
   "cell_type": "markdown",
   "metadata": {},
   "source": [
    "## Query spatial data from PostgreSQL database (4th example)"
   ]
  },
  {
   "cell_type": "code",
   "execution_count": null,
   "metadata": {},
   "outputs": [],
   "source": [
    "# Create a connection\n",
    "conn = create_engine(db_connection_url)  \n",
    "\n",
    "# Query the database    \n",
    "sql = \"\"\"WITH area_calculation AS (\n",
    "        SELECT \n",
    "                osm_id,\n",
    "                name,\n",
    "                ST_Area(ST_Transform(way, 32632)) / 1000000 AS area_km2,\n",
    "                ST_Transform(way, 4326) AS geom\n",
    "        FROM planet_osm_polygon\n",
    "        WHERE \n",
    "                boundary = 'administrative' \n",
    "                AND admin_level = '8'\n",
    "        )\n",
    "        SELECT *\n",
    "        FROM area_calculation\n",
    "        WHERE area_km2 >= 50;\"\"\"\n",
    "\n",
    "# Create a GeoDataFrame\n",
    "gdf_04 = gpd.GeoDataFrame.from_postgis(sql, conn, geom_col='geom')\n",
    "\n",
    "# Close the connection\n",
    "conn.dispose()\n",
    "\n",
    "# Show query results\n",
    "gdf_04"
   ]
  },
  {
   "cell_type": "markdown",
   "metadata": {},
   "source": [
    "## Show the map"
   ]
  },
  {
   "cell_type": "code",
   "execution_count": null,
   "metadata": {},
   "outputs": [],
   "source": [
    "# Extract the x (longitude) and y (latitude) coordinates from each polygon\n",
    "lon = gdf_04.geometry.apply(lambda polygon: polygon.centroid.x).mean()\n",
    "lat = gdf_04.geometry.apply(lambda polygon: polygon.centroid.y).mean()\n",
    "\n",
    "# Initialize the map (use grayscale tiles for better contrast)\n",
    "m = folium.Map(location=[lat, lon], \n",
    "               zoom_start=8, \n",
    "               tiles='CartoDB positron')\n",
    "\n",
    "# Map settings\n",
    "folium.Choropleth(\n",
    "    geo_data=gdf_04,\n",
    "    name='map',\n",
    "    fill_color='greenyellow'\n",
    ").add_to(m)\n",
    "\n",
    "folium.LayerControl().add_to(m)\n",
    "\n",
    "# Plot map\n",
    "m"
   ]
  },
  {
   "cell_type": "markdown",
   "metadata": {},
   "source": [
    "### Jupyter notebook --footer info-- (please always provide this at the end of each notebook)"
   ]
  },
  {
   "cell_type": "code",
   "execution_count": null,
   "metadata": {},
   "outputs": [],
   "source": [
    "import os\n",
    "import platform\n",
    "import socket\n",
    "from platform import python_version\n",
    "from datetime import datetime\n",
    "\n",
    "print('-----------------------------------')\n",
    "print(os.name.upper())\n",
    "print(platform.system(), '|', platform.release())\n",
    "print('Datetime:', datetime.now().strftime(\"%Y-%m-%d %H:%M:%S\"))\n",
    "print('Python Version:', python_version())\n",
    "print('-----------------------------------')"
   ]
  }
 ],
 "metadata": {
  "kernelspec": {
   "display_name": "gisenv",
   "language": "python",
   "name": "python3"
  },
  "language_info": {
   "codemirror_mode": {
    "name": "ipython",
    "version": 3
   },
   "file_extension": ".py",
   "mimetype": "text/x-python",
   "name": "python",
   "nbconvert_exporter": "python",
   "pygments_lexer": "ipython3",
   "version": "3.10.11"
  }
 },
 "nbformat": 4,
 "nbformat_minor": 2
}
